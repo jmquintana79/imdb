{
 "cells": [
  {
   "cell_type": "markdown",
   "id": "02562f3b",
   "metadata": {},
   "source": [
    "https://imdbpy.readthedocs.io/en/latest/usage/index.html"
   ]
  },
  {
   "cell_type": "code",
   "execution_count": 70,
   "id": "38f2c853",
   "metadata": {},
   "outputs": [
    {
     "name": "stdout",
     "output_type": "stream",
     "text": [
      "movies: ['airing', 'akas', 'alternate versions', 'awards', 'connections', 'crazy credits', 'critic reviews', 'episodes', 'external reviews', 'external sites', 'faqs', 'full credits', 'goofs', 'keywords', 'list', 'locations', 'main', 'misc sites', 'news', 'official sites', 'parents guide', 'photo sites', 'plot', 'quotes', 'recommendations', 'release dates', 'release info', 'reviews', 'sound clips', 'soundtrack', 'synopsis', 'taglines', 'technical', 'trivia', 'tv schedule', 'video clips', 'vote details']\n",
      "persons: ['awards', 'biography', 'filmography', 'genres links', 'keywords links', 'main', 'news', 'official sites', 'other works', 'publicity']\n",
      "companies ['main']\n"
     ]
    }
   ],
   "source": [
    "from imdb import IMDb\n",
    "# create an instance of the IMDb class\n",
    "ia = IMDb()\n",
    "print(\"movies:\", ia.get_movie_infoset())\n",
    "print(\"persons:\", ia.get_person_infoset())\n",
    "print(\"companies\", ia.get_company_infoset())"
   ]
  },
  {
   "cell_type": "code",
   "execution_count": 79,
   "id": "d56bae25",
   "metadata": {},
   "outputs": [],
   "source": [
    "from imdb import IMDbError\n",
    "\n",
    "try:\n",
    "    ia = IMDb()\n",
    "    people = ia.search_person('Mel Gixson')\n",
    "except IMDbError as e:\n",
    "    print(e)"
   ]
  },
  {
   "cell_type": "markdown",
   "id": "1415efd2",
   "metadata": {},
   "source": [
    "# show"
   ]
  },
  {
   "cell_type": "code",
   "execution_count": 72,
   "id": "7f296172",
   "metadata": {},
   "outputs": [
    {
     "data": {
      "text/plain": [
       "[<Movie id:8682738[http] title:_\"Betty en NY\" (2019)_>,\n",
       " <Movie id:9776304[http] title:_\"Betty en NY\" Episode #1.13 (2019)_>,\n",
       " <Movie id:10071628[http] title:_\"Betty en NY\" Episode #1.40 (2019)_>,\n",
       " <Movie id:10389656[http] title:_\"Betty en NY\" Episode #1.83 (2019)_>,\n",
       " <Movie id:10425900[http] title:_\"Betty en NY\" Episode #1.90 (2019)_>,\n",
       " <Movie id:10389654[http] title:_\"Betty en NY\" Episode #1.82 (2019)_>,\n",
       " <Movie id:11769194[http] title:_\"We Are Washington\" La Cosecha & Betty Entzmminger (2020)_>,\n",
       " <Movie id:2915444[http] title:_\"Late Night with Conan O'Brien\" Tony Randall/Jenny McCarthy/Betty Faber (1995)_>,\n",
       " <Movie id:11152604[http] title:_\"The Merv Griffin Show\" Hermione Gingold, Betty Walker, Fannie Flagg, Don Penny (1966)_>,\n",
       " <Movie id:1475726[http] title:_\"Cavalcade of Stars\" Toni Arden, Tony Bennett, Johnny Desmond, Betty George, Jimmy Nelson, Betty & Jane Kean (1952)_>,\n",
       " <Movie id:3595890[http] title:_\"Bethenny\" 'Pretty Little Liars' Star Shay Mitchell/Bethenny's All-Star Panel with Finesse Mitchell, Sherrod Small & Charlamagne (2014)_>,\n",
       " <Movie id:10210076[http] title:_\"Betty en NY\" Episode #1.61 (2019)_>,\n",
       " <Movie id:10175146[http] title:_\"Betty en NY\" Episode #1.51 (2019)_>,\n",
       " <Movie id:10317886[http] title:_\"Betty en NY\" Episode #1.76 (2019)_>,\n",
       " <Movie id:10425902[http] title:_\"Betty en NY\" Episode #1.91 (2019)_>,\n",
       " <Movie id:10175158[http] title:_\"Betty en NY\" Episode #1.54 (2019)_>,\n",
       " <Movie id:10317876[http] title:_\"Betty en NY\" Episode #1.72 (2019)_>,\n",
       " <Movie id:9706756[http] title:_\"Betty en NY\" Episode #1.3 (2019)_>,\n",
       " <Movie id:9750090[http] title:_\"Betty en NY\" Episode #1.10 (2019)_>,\n",
       " <Movie id:10175156[http] title:_\"Betty en NY\" Episode #1.53 (2019)_>]"
      ]
     },
     "execution_count": 72,
     "metadata": {},
     "output_type": "execute_result"
    }
   ],
   "source": [
    "showname = \"Betty en NY\"\n",
    "movies = ia.search_movie(showname)\n",
    "movies"
   ]
  },
  {
   "cell_type": "code",
   "execution_count": 76,
   "id": "f59942be",
   "metadata": {},
   "outputs": [
    {
     "data": {
      "text/plain": [
       "('8682738', 'Betty en NY', 'tv series', 2019)"
      ]
     },
     "execution_count": 76,
     "metadata": {},
     "output_type": "execute_result"
    }
   ],
   "source": [
    "movies[0].movieID, movies[0]['title'], movies[0]['kind'], movies[0]['year']"
   ]
  },
  {
   "cell_type": "code",
   "execution_count": null,
   "id": "8165aafc",
   "metadata": {},
   "outputs": [],
   "source": []
  },
  {
   "cell_type": "code",
   "execution_count": 94,
   "id": "edd0588e",
   "metadata": {},
   "outputs": [
    {
     "data": {
      "text/plain": [
       "dict_keys(['main', 'tv schedule', 'recommendations', 'vote details', 'keywords'])"
      ]
     },
     "execution_count": 94,
     "metadata": {},
     "output_type": "execute_result"
    }
   ],
   "source": [
    "idshow = movies[0].movieID\n",
    "movie = ia.get_movie(idshow, info=[\"main\",'tv schedule', 'recommendations', 'vote details', 'keywords'])\n",
    "movie.infoset2keys.keys()"
   ]
  },
  {
   "cell_type": "code",
   "execution_count": 105,
   "id": "355a1975",
   "metadata": {},
   "outputs": [
    {
     "data": {
      "text/plain": [
       "['localized title',\n",
       " 'cast',\n",
       " 'genres',\n",
       " 'runtimes',\n",
       " 'countries',\n",
       " 'country codes',\n",
       " 'language codes',\n",
       " 'certificates',\n",
       " 'number of seasons',\n",
       " 'rating',\n",
       " 'votes',\n",
       " 'cover url',\n",
       " 'imdbID',\n",
       " 'languages',\n",
       " 'title',\n",
       " 'year',\n",
       " 'kind',\n",
       " 'series years',\n",
       " 'akas',\n",
       " 'seasons',\n",
       " 'writer',\n",
       " 'production companies',\n",
       " 'distributors']"
      ]
     },
     "execution_count": 105,
     "metadata": {},
     "output_type": "execute_result"
    }
   ],
   "source": [
    "movie.infoset2keys[\"main\"]"
   ]
  },
  {
   "cell_type": "code",
   "execution_count": 83,
   "id": "1f007bb8",
   "metadata": {},
   "outputs": [
    {
     "data": {
      "text/plain": [
       "{'imdb users': {'votes': 447, 'rating': 7.8},\n",
       " 'aged 18 29': {'votes': 66, 'rating': 7.9},\n",
       " 'aged 30 44': {'votes': 129, 'rating': 7.8},\n",
       " 'aged 45 plus': {'votes': 50, 'rating': 7.2},\n",
       " 'males': {'votes': 123, 'rating': 7.1},\n",
       " 'males aged 18 29': {'votes': 23, 'rating': 6.0},\n",
       " 'males aged 30 44': {'votes': 49, 'rating': 7.4},\n",
       " 'males aged 45 plus': {'votes': 27, 'rating': 6.8},\n",
       " 'females': {'votes': 161, 'rating': 8.2},\n",
       " 'females aged 18 29': {'votes': 40, 'rating': 8.5},\n",
       " 'females aged 30 44': {'votes': 73, 'rating': 8.1},\n",
       " 'females aged 45 plus': {'votes': 22, 'rating': 8.1},\n",
       " 'top 1000 voters': {'votes': 3, 'rating': 2.7},\n",
       " 'us users': {'votes': 39, 'rating': 7.7},\n",
       " 'non us users': {'votes': 134, 'rating': 7.6}}"
      ]
     },
     "execution_count": 83,
     "metadata": {},
     "output_type": "execute_result"
    }
   ],
   "source": [
    "movie.get('demographics')"
   ]
  },
  {
   "cell_type": "code",
   "execution_count": 84,
   "id": "5171b000",
   "metadata": {},
   "outputs": [
    {
     "data": {
      "text/plain": [
       "['secretary']"
      ]
     },
     "execution_count": 84,
     "metadata": {},
     "output_type": "execute_result"
    }
   ],
   "source": [
    "movie.get('keywords')"
   ]
  },
  {
   "cell_type": "code",
   "execution_count": 87,
   "id": "14cd2249",
   "metadata": {},
   "outputs": [],
   "source": [
    "movie.get('tv schedule')"
   ]
  },
  {
   "cell_type": "code",
   "execution_count": 89,
   "id": "79d32e3d",
   "metadata": {},
   "outputs": [
    {
     "data": {
      "text/plain": [
       "[<Movie id:0233127[http] title:_Yo soy Betty, la fea (None)_>,\n",
       " <Movie id:11243606[http] title:_100 días para enamorarnos (None)_>,\n",
       " <Movie id:8598690[http] title:_False Identity (None)_>,\n",
       " <Movie id:7632608[http] title:_Enemigo Íntimo (None)_>,\n",
       " <Movie id:0211878[http] title:_La usurpadora (1998)_>,\n",
       " <Movie id:8560918[http] title:_The Queen of Flow (None)_>,\n",
       " <Movie id:0497152[http] title:_La fea más bella (None)_>,\n",
       " <Movie id:5663590[http] title:_La Doña (None)_>,\n",
       " <Movie id:10348478[http] title:_Los Briceño, una familia todo terreno (None)_>,\n",
       " <Movie id:6607810[http] title:_La Piloto (None)_>,\n",
       " <Movie id:0301263[http] title:_Eco moda (None)_>,\n",
       " <Movie id:10709178[http] title:_La usurpadora (None)_>]"
      ]
     },
     "execution_count": 89,
     "metadata": {},
     "output_type": "execute_result"
    }
   ],
   "source": [
    "movie.get(\"recommendations\")"
   ]
  },
  {
   "cell_type": "code",
   "execution_count": 107,
   "id": "b4c51c3f",
   "metadata": {},
   "outputs": [
    {
     "data": {
      "text/plain": [
       "([<Company id:0072054[http] name:_Telemundo_>],\n",
       " [<Company id:0144901[http] name:_Netflix_>,\n",
       "  <Company id:0246018[http] name:_TV5_>])"
      ]
     },
     "execution_count": 107,
     "metadata": {},
     "output_type": "execute_result"
    }
   ],
   "source": [
    "movie.get('production companies'), movie.get('distributors')"
   ]
  },
  {
   "cell_type": "markdown",
   "id": "afdd0a51",
   "metadata": {},
   "source": [
    "# company"
   ]
  },
  {
   "cell_type": "code",
   "execution_count": 98,
   "id": "95300657",
   "metadata": {},
   "outputs": [
    {
     "data": {
      "text/plain": [
       "('Telemundo', '0183372')"
      ]
     },
     "execution_count": 98,
     "metadata": {},
     "output_type": "execute_result"
    }
   ],
   "source": [
    "companies = ia.search_company('Telemundo')\n",
    "companies[0][\"name\"], companies[0].companyID"
   ]
  },
  {
   "cell_type": "code",
   "execution_count": 102,
   "id": "aeeec26d",
   "metadata": {},
   "outputs": [
    {
     "data": {
      "text/plain": [
       "('Telemundo', 'Telemundo')"
      ]
     },
     "execution_count": 102,
     "metadata": {},
     "output_type": "execute_result"
    }
   ],
   "source": [
    "company = ia.get_company(companies[0].companyID)\n",
    "company[\"name\"], company['long imdb name']"
   ]
  },
  {
   "cell_type": "code",
   "execution_count": 104,
   "id": "7f052534",
   "metadata": {},
   "outputs": [
    {
     "data": {
      "text/plain": [
       "{'main': ['name']}"
      ]
     },
     "execution_count": 104,
     "metadata": {},
     "output_type": "execute_result"
    }
   ],
   "source": [
    "company.infoset2keys"
   ]
  },
  {
   "cell_type": "code",
   "execution_count": null,
   "id": "1d0e9329",
   "metadata": {},
   "outputs": [],
   "source": []
  }
 ],
 "metadata": {
  "kernelspec": {
   "display_name": "imbd",
   "language": "python",
   "name": "imbd"
  },
  "language_info": {
   "codemirror_mode": {
    "name": "ipython",
    "version": 3
   },
   "file_extension": ".py",
   "mimetype": "text/x-python",
   "name": "python",
   "nbconvert_exporter": "python",
   "pygments_lexer": "ipython3",
   "version": "3.7.0"
  }
 },
 "nbformat": 4,
 "nbformat_minor": 5
}
